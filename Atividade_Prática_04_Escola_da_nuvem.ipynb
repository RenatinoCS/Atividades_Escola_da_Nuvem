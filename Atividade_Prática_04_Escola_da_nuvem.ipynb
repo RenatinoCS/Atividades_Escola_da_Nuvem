{
  "nbformat": 4,
  "nbformat_minor": 0,
  "metadata": {
    "colab": {
      "provenance": [],
      "authorship_tag": "ABX9TyM3ITNbm35MduQoT6Nba1bN",
      "include_colab_link": true
    },
    "kernelspec": {
      "name": "python3",
      "display_name": "Python 3"
    },
    "language_info": {
      "name": "python"
    }
  },
  "cells": [
    {
      "cell_type": "markdown",
      "metadata": {
        "id": "view-in-github",
        "colab_type": "text"
      },
      "source": [
        "<a href=\"https://colab.research.google.com/github/RenatinoCS/Atividades_Escola_da_Nuvem/blob/main/Atividade_Pr%C3%A1tica_04_Escola_da_nuvem.ipynb\" target=\"_parent\"><img src=\"https://colab.research.google.com/assets/colab-badge.svg\" alt=\"Open In Colab\"/></a>"
      ]
    },
    {
      "cell_type": "markdown",
      "source": [
        "1 - Desenvolva uma calculadora que realize as quatro operações básicas (+, -, *, /) entre dois números.\n",
        "\n",
        "Regras:\n",
        "\n",
        "\n",
        "Solicitar ao usuário dois números e a operação.\n",
        "\n",
        "\n",
        "Repetir até que uma operação válida seja concluída.\n",
        "\n",
        "\n",
        "Tratar os seguintes erros:\n",
        "\n",
        "\n",
        "Entrada não numérica.\n",
        "\n",
        "\n",
        "Divisão por zero.\n",
        "\n",
        "\n",
        "Operação inválida.\n",
        "\n",
        "\n",
        "\n",
        "\n",
        "\n",
        "Mostrar o resultado e encerrar.\n"
      ],
      "metadata": {
        "id": "XZTt2E5dvqLG"
      }
    },
    {
      "cell_type": "code",
      "execution_count": 3,
      "metadata": {
        "colab": {
          "base_uri": "https://localhost:8080/"
        },
        "id": "6JpX17vMutEF",
        "outputId": "068d392a-e549-462c-9ee8-13c9e5f224cf"
      },
      "outputs": [
        {
          "output_type": "stream",
          "name": "stdout",
          "text": [
            "Calculadora Simples (+ - * /)\n",
            "Digite o primeiro número: 5\n",
            "Digite o segundo número: 0\n",
            "Digite a operação (+, -, *, /): /\n",
            "Erro: Não é possível dividir por zero!\n"
          ]
        }
      ],
      "source": [
        "# Calculadora básica com tratamento de erros\n",
        "print(\"Calculadora Simples (+ - * /)\")\n",
        "\n",
        "try:\n",
        "    num1 = float(input(\"Digite o primeiro número: \"))\n",
        "    num2 = float(input(\"Digite o segundo número: \"))\n",
        "    operacao = input(\"Digite a operação (+, -, *, /): \")\n",
        "\n",
        "    if operacao == '+':\n",
        "        resultado = num1 + num2\n",
        "    elif operacao == '-':\n",
        "        resultado = num1 - num2\n",
        "    elif operacao == '*':\n",
        "        resultado = num1 * num2\n",
        "    elif operacao == '/':\n",
        "        resultado = num1 / num2\n",
        "    else:\n",
        "        print(\"Operação inválida! Use apenas +, -, * ou /\")\n",
        "        resultado = None\n",
        "\n",
        "    if resultado is not None:\n",
        "        print(f\"Resultado: {resultado}\")\n",
        "\n",
        "except ValueError:\n",
        "    print(\"Erro: Digite apenas números válidos!\")\n",
        "except ZeroDivisionError:\n",
        "    print(\"Erro: Não é possível dividir por zero!\")"
      ]
    },
    {
      "cell_type": "markdown",
      "source": [
        "2 - Crie um programa para o professor registrar as notas da turma.\n",
        "\n",
        "Regras:\n",
        "\n",
        "\n",
        "Continuar solicitando notas até que o professor digite 'fim'.\n",
        "\n",
        "\n",
        "Aceitar apenas notas entre 0 e 10.\n",
        "\n",
        "\n",
        "Ignorar notas inválidas e continuar solicitando.\n",
        "\n",
        "\n",
        "Ao final, mostrar a média da turma.\n"
      ],
      "metadata": {
        "id": "Qj4-NXf_x084"
      }
    },
    {
      "cell_type": "code",
      "source": [
        "print(\"Registro de Notas da Turma (digite 'fim' para encerrar)\")\n",
        "\n",
        "soma_notas = 0\n",
        "quantidade_notas = 0\n",
        "\n",
        "while True:\n",
        "    entrada = input(\"Digite uma nota (0 a 10) ou 'fim' para terminar: \")\n",
        "\n",
        "    if entrada.lower() == 'fim':\n",
        "        break  # Sai do loop quando o usuário digitar 'fim'\n",
        "\n",
        "    try:\n",
        "        nota = float(entrada)\n",
        "\n",
        "        if 0 <= nota <= 10:\n",
        "            soma_notas += nota\n",
        "            quantidade_notas += 1\n",
        "            print(f\"Nota {nota} registrada com sucesso!\")\n",
        "        else:\n",
        "            print(\"Nota inválida! Digite um valor entre 0 e 10.\")\n",
        "\n",
        "    except ValueError:\n",
        "        print(\"Entrada inválida! Digite apenas números ou 'fim'.\")\n",
        "\n",
        "# Calcula e mostra a média\n",
        "if quantidade_notas > 0:\n",
        "    media = soma_notas / quantidade_notas\n",
        "    print(f\"\\nMédia da turma: {media:.2f}\")\n",
        "else:\n",
        "    print(\"\\nNenhuma nota válida foi registrada.\")"
      ],
      "metadata": {
        "colab": {
          "base_uri": "https://localhost:8080/"
        },
        "id": "bXaYYcKXx6cS",
        "outputId": "227b7132-3428-4210-9236-338f9779a785"
      },
      "execution_count": 4,
      "outputs": [
        {
          "output_type": "stream",
          "name": "stdout",
          "text": [
            "Registro de Notas da Turma (digite 'fim' para encerrar)\n",
            "Digite uma nota (0 a 10) ou 'fim' para terminar: 3\n",
            "Nota 3.0 registrada com sucesso!\n",
            "Digite uma nota (0 a 10) ou 'fim' para terminar: 3\n",
            "Nota 3.0 registrada com sucesso!\n",
            "Digite uma nota (0 a 10) ou 'fim' para terminar: 4\n",
            "Nota 4.0 registrada com sucesso!\n",
            "Digite uma nota (0 a 10) ou 'fim' para terminar: fim\n",
            "\n",
            "Média da turma: 3.33\n"
          ]
        }
      ]
    },
    {
      "cell_type": "markdown",
      "source": [
        "3 - Crie um programa que verifique se a senha é forte.\n",
        "\n",
        "Regras:\n",
        "\n",
        "\n",
        "Senha forte: pelo menos 8 caracteres e pelo menos um número.\n",
        "\n",
        "\n",
        "Continuar pedindo senha até que uma válida seja inserida ou o usuário digite 'sair'.\n"
      ],
      "metadata": {
        "id": "4DXNVDDP0Gss"
      }
    },
    {
      "cell_type": "code",
      "source": [
        "print(\"Verificador de senha forte\")\n",
        "print(\"Regras: Mínimo 8 caracteres e pelo menos 1 número\")\n",
        "print(\"Digite 'sair' para encerrar\\n\")\n",
        "\n",
        "while True:\n",
        "    senha = input(\"Digite sua senha: \")\n",
        "\n",
        "    if senha.lower() == 'sair':\n",
        "        print(\"Programa encerrado.\")\n",
        "        break\n",
        "\n",
        "    # Verifica tamanho\n",
        "    if len(senha) < 8:\n",
        "        print(\"Senha muito curta! Deve ter pelo menos 8 caracteres\\n\")\n",
        "        continue\n",
        "\n",
        "\n",
        "\n",
        "    print(\"\\n✅ Senha forte cadastrada com sucesso!\")\n",
        "    break"
      ],
      "metadata": {
        "colab": {
          "base_uri": "https://localhost:8080/"
        },
        "id": "elBOyyYhzTk5",
        "outputId": "5f338661-d450-4092-f2fb-448a6ada1813"
      },
      "execution_count": 5,
      "outputs": [
        {
          "output_type": "stream",
          "name": "stdout",
          "text": [
            "Verificador de senha forte\n",
            "Regras: Mínimo 8 caracteres e pelo menos 1 número\n",
            "Digite 'sair' para encerrar\n",
            "\n",
            "Digite sua senha: 4567\n",
            "Senha muito curta! Deve ter pelo menos 8 caracteres\n",
            "\n",
            "Digite sua senha: fgdethgf\n",
            "\n",
            "✅ Senha forte cadastrada com sucesso!\n"
          ]
        }
      ]
    },
    {
      "cell_type": "markdown",
      "source": [
        "4 - Crie um programa que solicite números inteiros ao usuário.\n",
        "\n",
        "Regras:\n",
        "\n",
        "\n",
        "Continuar pedindo números até que o usuário digite 'fim'.\n",
        "\n",
        "\n",
        "Informar se o número é par ou ímpar.\n",
        "\n",
        "\n",
        "Se não for um número inteiro, informar o erro e continuar.\n",
        "\n",
        "\n",
        "Ao final, mostrar a quantidade total de números pares e ímpares inseridos."
      ],
      "metadata": {
        "id": "lkC-EHMh0WRG"
      }
    },
    {
      "cell_type": "code",
      "source": [
        "\n",
        "print(\"Contador de números pares e ímpares\")\n",
        "print(\"Digite números inteiros ou 'fim' para encerrar\\n\")\n",
        "\n",
        "\n",
        "pares = 0\n",
        "impares = 0\n",
        "\n",
        "# Loop principal (executa indefinidamente até encontrar 'break')\n",
        "while True:\n",
        "    entrada = input(\"Digite um número inteiro: \")\n",
        "\n",
        "    # .lower() converte a string para minúsculas, assim aceita 'FIM', 'Fim' ou 'fim'\n",
        "    if entrada.lower() == 'fim':\n",
        "        break\n",
        "\n",
        "    try:\n",
        "        # Tenta converter a entrada para número inteiro\n",
        "        numero = int(entrada)\n",
        "\n",
        "        # Verifica se o número é par\n",
        "        if numero % 2 == 0:\n",
        "            print(f\"O número {numero} é PAR\")\n",
        "            pares += 1  # Incrementa o contador de pares\n",
        "        else:\n",
        "            print(f\"O número {numero} é ÍMPAR\")\n",
        "            impares += 1  # Incrementa o contador de ímpares\n",
        "\n",
        "    except ValueError:\n",
        "        print(\"Erro: Digite apenas números inteiros ou 'fim'\")\n",
        "\n",
        "# Mostra os resultados finais\n",
        "print(\"\\n=== RESULTADO ===\")\n",
        "print(f\"Total de números pares: {pares}\")\n",
        "print(f\"Total de números ímpares: {impares}\")"
      ],
      "metadata": {
        "colab": {
          "base_uri": "https://localhost:8080/"
        },
        "id": "5zMuNHxc0hpV",
        "outputId": "e5be9aa1-eca9-43b1-98a0-36f10bd40378"
      },
      "execution_count": 6,
      "outputs": [
        {
          "output_type": "stream",
          "name": "stdout",
          "text": [
            "Contador de números pares e ímpares\n",
            "Digite números inteiros ou 'fim' para encerrar\n",
            "\n",
            "Digite um número inteiro: 4\n",
            "O número 4 é PAR\n",
            "Digite um número inteiro: 6\n",
            "O número 6 é PAR\n",
            "Digite um número inteiro: 4.5\n",
            "Erro: Digite apenas números inteiros ou 'fim'\n",
            "Digite um número inteiro: FIM\n",
            "\n",
            "=== RESULTADO ===\n",
            "Total de números pares: 2\n",
            "Total de números ímpares: 0\n"
          ]
        }
      ]
    }
  ]
}
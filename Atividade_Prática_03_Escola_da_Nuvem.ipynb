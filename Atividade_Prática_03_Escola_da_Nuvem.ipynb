{
  "nbformat": 4,
  "nbformat_minor": 0,
  "metadata": {
    "colab": {
      "provenance": [],
      "authorship_tag": "ABX9TyNDfjnJRJ7P6byTkx2RByHi",
      "include_colab_link": true
    },
    "kernelspec": {
      "name": "python3",
      "display_name": "Python 3"
    },
    "language_info": {
      "name": "python"
    }
  },
  "cells": [
    {
      "cell_type": "markdown",
      "metadata": {
        "id": "view-in-github",
        "colab_type": "text"
      },
      "source": [
        "<a href=\"https://colab.research.google.com/github/RenatinoCS/Atividades_Escola_da_Nuvem/blob/main/Atividade_Pr%C3%A1tica_03_Escola_da_Nuvem.ipynb\" target=\"_parent\"><img src=\"https://colab.research.google.com/assets/colab-badge.svg\" alt=\"Open In Colab\"/></a>"
      ]
    },
    {
      "cell_type": "markdown",
      "source": [
        "1- Classificador de Idade\n",
        "\n",
        "Crie um programa que solicite a idade do usuário e classifique-o\n",
        "em uma das seguintes categorias:\n",
        "\n",
        "*Criança (0-12 anos),\n",
        "*Adolescente (13-17 anos),\n",
        "*Adulto (18-59 anos) ou\n",
        "*Idoso (60 anos ou mais)."
      ],
      "metadata": {
        "id": "Aez7mQ6u2p6u"
      }
    },
    {
      "cell_type": "code",
      "execution_count": 1,
      "metadata": {
        "colab": {
          "base_uri": "https://localhost:8080/"
        },
        "id": "MOv3zs-Z2o8L",
        "outputId": "4fc3d335-21b3-4962-df9f-91332777a5af"
      },
      "outputs": [
        {
          "output_type": "stream",
          "name": "stdout",
          "text": [
            "Digite sua idade: 33\n",
            "Adulto (18-59 anos)\n"
          ]
        }
      ],
      "source": [
        "idade = int(input(\"Digite sua idade: \"))\n",
        "\n",
        "if idade <= 12:\n",
        "    print(\"Criança (0-12 anos)\")\n",
        "elif idade <= 17:\n",
        "    print(\"Adolescente (13-17 anos)\")\n",
        "elif idade <= 59:\n",
        "    print(\"Adulto (18-59 anos)\")\n",
        "else:\n",
        "    print(\"Idoso (60 anos ou mais)\")"
      ]
    },
    {
      "cell_type": "markdown",
      "source": [
        "2- Calculadora de IMC\n",
        "\n",
        "Desenvolva um programa que calcule o Índice de Massa Corporal (IMC) de uma pessoa.\n",
        "O programa deve solicitar o peso (em kg) e a altura (em metros) do usuário,\n",
        "calcular o IMC e fornecer a classificação de acordo com a tabela padrão de IMC.\n",
        "\n",
        "< 18.5: classificacao = \"Abaixo do peso\"\n",
        "< 25: classificacao = \"Peso normal\"\n",
        "< 30: classificacao = \"Sobrepeso\"\n",
        "Para os demais cenários: classificacao = \"Obeso\""
      ],
      "metadata": {
        "id": "5E1PJdCT3DUc"
      }
    },
    {
      "cell_type": "code",
      "source": [
        "peso = float(input(\"Digite seu peso (kg): \"))\n",
        "altura = float(input(\"Digite sua altura (m): \"))\n",
        "\n",
        "imc = peso / (altura ** 2)\n",
        "\n",
        "if imc < 18.5:\n",
        "    print(\"Abaixo do peso\")\n",
        "elif imc < 25:\n",
        "    print(\"Peso normal\")\n",
        "elif imc < 30:\n",
        "    print(\"Sobrepeso\")\n",
        "else:\n",
        "    print(\"Obeso\")"
      ],
      "metadata": {
        "colab": {
          "base_uri": "https://localhost:8080/"
        },
        "id": "RYfCQ9Js2_nE",
        "outputId": "65e410e4-2f24-44c7-e236-094bf8cd336f"
      },
      "execution_count": 3,
      "outputs": [
        {
          "output_type": "stream",
          "name": "stdout",
          "text": [
            "Digite seu peso (kg): 60\n",
            "Digite sua altura (m): 1.60\n",
            "Peso normal\n"
          ]
        }
      ]
    },
    {
      "cell_type": "markdown",
      "source": [
        "3- Conversor de Temperatura\n",
        "Crie um programa que converta temperaturas entre Celsius, Fahrenheit e Kelvin.\n",
        "O usuário deve informar a temperatura, a unidade de origem e a unidade para qual deseja converter."
      ],
      "metadata": {
        "id": "IXuMRUc_7WT8"
      }
    },
    {
      "cell_type": "code",
      "source": [
        "temp = float(input(\"Digite a temperatura: \"))\n",
        "origem = input(\"Unidade de origem (C/F/K): \").upper() #Converte a letra digitada pelo usuário para MAIÚSCULA\n",
        "destino = input(\"Unidade de destino (C/F/K): \").upper()#Converte a letra digitada pelo usuário para MAIÚSCULA\n",
        "\n",
        "# Converter para Celsius primeiro\n",
        "if origem == 'F':\n",
        "    celsius = (temp - 32) * 5/9\n",
        "elif origem == 'K':\n",
        "    celsius = temp - 273.15\n",
        "else:\n",
        "    celsius = temp\n",
        "\n",
        "# Converter para unidade destino\n",
        "if destino == 'F':\n",
        "    resultado = celsius * 9/5 + 32\n",
        "elif destino == 'K':\n",
        "    resultado = celsius + 273.15\n",
        "else:\n",
        "    resultado = celsius\n",
        "\n",
        "print(f\"Resultado: {resultado:.2f}°{destino}\")"
      ],
      "metadata": {
        "colab": {
          "base_uri": "https://localhost:8080/"
        },
        "id": "FLDw8Ck_7ZI4",
        "outputId": "72a73ab4-fd18-4dc1-f5d0-b4c2551b36ba"
      },
      "execution_count": 5,
      "outputs": [
        {
          "output_type": "stream",
          "name": "stdout",
          "text": [
            "Digite a temperatura: 34\n",
            "Unidade de origem (C/F/K): C\n",
            "Unidade de destino (C/F/K): K\n",
            "Resultado: 307.15°K\n"
          ]
        }
      ]
    },
    {
      "cell_type": "markdown",
      "source": [
        "4- Verificador de Ano Bissexto\n",
        "\n",
        "Faça um programa que determine se um ano inserido pelo usuário é bissexto ou não.\n",
        "Um ano é bissexto se for divisível por 4, exceto anos centenários (divisíveis por 100) que não são divisíveis por 400."
      ],
      "metadata": {
        "id": "7Fcx5w668X8N"
      }
    },
    {
      "cell_type": "code",
      "source": [
        "ano = int(input(\"Digite um ano: \"))\n",
        "\n",
        "if (ano % 400 == 0) or (ano % 100 != 0 and ano % 4 == 0):\n",
        "    print(f\"{ano} é bissexto\")\n",
        "else:\n",
        "    print(f\"{ano} não é bissexto\")"
      ],
      "metadata": {
        "colab": {
          "base_uri": "https://localhost:8080/"
        },
        "id": "R9pmJ14m8bTz",
        "outputId": "dd93fc5d-aefb-4ebb-fdc4-ead941b0c60a"
      },
      "execution_count": 6,
      "outputs": [
        {
          "output_type": "stream",
          "name": "stdout",
          "text": [
            "Digite um ano: 2025\n",
            "2025 não é bissexto\n"
          ]
        }
      ]
    }
  ]
}
{
  "nbformat": 4,
  "nbformat_minor": 0,
  "metadata": {
    "colab": {
      "provenance": [],
      "authorship_tag": "ABX9TyPjh6+J0ahcHlRC5R53M5I6",
      "include_colab_link": true
    },
    "kernelspec": {
      "name": "python3",
      "display_name": "Python 3"
    },
    "language_info": {
      "name": "python"
    }
  },
  "cells": [
    {
      "cell_type": "markdown",
      "metadata": {
        "id": "view-in-github",
        "colab_type": "text"
      },
      "source": [
        "<a href=\"https://colab.research.google.com/github/RenatinoCS/Atividades_Escola_da_Nuvem/blob/main/Atividade_Pr%C3%A1tica_05_Escola_da_Nuvem.ipynb\" target=\"_parent\"><img src=\"https://colab.research.google.com/assets/colab-badge.svg\" alt=\"Open In Colab\"/></a>"
      ]
    },
    {
      "cell_type": "markdown",
      "source": [
        "1- Enunciado: Crie uma função que calcule a gorjeta a ser deixada em um restaurante, baseada no valor total da conta e na porcentagem de gorjeta desejada.​\n",
        "\n",
        "​    Calcula o valor da gorjeta baseado no total da conta e na porcentagem desejada.​\n",
        "\n",
        "​   Parâmetros:​\n",
        "\n",
        "valor_conta (float): O valor total da conta​ porcentagem_gorjeta (float): A porcentagem da gorjeta (ex: 15 para 15%)​\n",
        "\n",
        "Retorna:​\n",
        "\n",
        "float: O valor da gorjeta calculada"
      ],
      "metadata": {
        "id": "HE_YHRBIUbPQ"
      }
    },
    {
      "cell_type": "code",
      "source": [
        "# Exercício 1 - Calcular Gorjeta\n",
        "\n",
        "def calcular_gorjeta(valor_conta: float, porcentagem_gorjeta: float) -> float:\n",
        "    \"\"\"\n",
        "    Calcula a gorjeta com base no valor da conta e na porcentagem desejada.\n",
        "    \"\"\"\n",
        "    return valor_conta * (porcentagem_gorjeta / 100)\n",
        "\n",
        "\n",
        "try:\n",
        "    valor = float(input(\"Informe o valor total da conta (ex: 150.00): R$ \"))\n",
        "    porcentagem = float(input(\"Informe a porcentagem da gorjeta (ex: 10 para 10%): \"))\n",
        "    gorjeta = calcular_gorjeta(valor, porcentagem)\n",
        "    print(f\"➡️  A gorjeta é de: R$ {gorjeta:.2f}\")\n",
        "except ValueError:\n",
        "    print(\"❌ Entrada inválida. Por favor, insira números válidos.\")\n"
      ],
      "metadata": {
        "colab": {
          "base_uri": "https://localhost:8080/"
        },
        "id": "rH-E3bo5VWYI",
        "outputId": "0a25a817-30f5-403b-c69a-479426fe839a"
      },
      "execution_count": 5,
      "outputs": [
        {
          "output_type": "stream",
          "name": "stdout",
          "text": [
            "Informe o valor total da conta (ex: 150.00): R$ 100\n",
            "Informe a porcentagem da gorjeta (ex: 10 para 10%): 15\n",
            "➡️  A gorjeta é de: R$ 15.00\n"
          ]
        }
      ]
    },
    {
      "cell_type": "markdown",
      "source": [
        "2- : Crie uma função que verifique se uma palavra ou frase é um palíndromo (lê-se igual de trás para frente, ignorando espaços e pontuação).​\n",
        "​\n",
        "\n",
        "Se o resultado é True, responda “Sim”, se o resultado for False, responda “Não”"
      ],
      "metadata": {
        "id": "jsN7AgAfWTsP"
      }
    },
    {
      "cell_type": "code",
      "source": [
        "# Exercício 2 - Verificar Palíndromo\n",
        "\n",
        "def verificar_palindromo(texto: str) -> str:\n",
        "    \"\"\"\n",
        "    Verifica se o texto fornecido é um palíndromo.\n",
        "    Ignora espaços, acentuação e pontuações.\n",
        "\n",
        "    Parâmetro:\n",
        "    - texto: string contendo a palavra ou frase a ser analisada\n",
        "\n",
        "    Retorna:\n",
        "    - \"Sim\" se for palíndromo\n",
        "    - \"Não\" se não for\n",
        "    \"\"\"\n",
        "\n",
        "    # Remove tudo que não for letra ou número e converte para minúsculas\n",
        "    texto_limpo = ''.join(char.lower() for char in texto if char.isalnum())\n",
        "\n",
        "    # Compara o texto original com ele invertido\n",
        "    if texto_limpo == texto_limpo[::-1]:\n",
        "        return \"Sim\"\n",
        "    else:\n",
        "        return \"Não\"\n",
        "\n",
        "\n",
        "# Solicita uma frase ou palavra ao usuário\n",
        "frase = input(\"Digite uma palavra ou frase para verificar: \")\n",
        "\n",
        "# Chama a função e armazena o resultado\n",
        "resultado = verificar_palindromo(frase)\n",
        "\n",
        "# Exibe se é palíndromo ou não\n",
        "print(f\"➡️  É palíndromo? {resultado}\")\n"
      ],
      "metadata": {
        "colab": {
          "base_uri": "https://localhost:8080/"
        },
        "id": "jI8dlwDKWzXf",
        "outputId": "f58536a9-0a86-444f-88bf-1cedf6cf18bb"
      },
      "execution_count": 7,
      "outputs": [
        {
          "output_type": "stream",
          "name": "stdout",
          "text": [
            "\n",
            "=== Exercício 2 - Verificar Palíndromo ===\n",
            "Digite uma palavra ou frase para verificar: ana\n",
            "➡️  É palíndromo? Sim\n"
          ]
        }
      ]
    },
    {
      "cell_type": "markdown",
      "source": [
        "3- Crie uma função que calcule a idade de uma pessoa em dias, baseada no ano de nascimento."
      ],
      "metadata": {
        "id": "o3dQU0klXD1w"
      }
    },
    {
      "cell_type": "code",
      "source": [
        "from datetime import date  # Importa o módulo para trabalhar com datas\n",
        "\n",
        "def calcular_idade_em_dias(ano_nascimento: int) -> int:\n",
        "    \"\"\"\n",
        "    Calcula a idade aproximada de uma pessoa em dias com base no ano de nascimento.\n",
        "\n",
        "    Parâmetro:\n",
        "    - ano_nascimento: int -> o ano em que a pessoa nasceu (ex: 1990)\n",
        "\n",
        "    Retorna:\n",
        "    - int -> idade aproximada em dias (365 dias por ano, sem considerar anos bissextos ou o mês atual)\n",
        "    \"\"\"\n",
        "    ano_atual = date.today().year  # Obtém o ano atual do sistema\n",
        "    idade_anos = ano_atual - ano_nascimento  # Calcula a idade em anos\n",
        "    idade_dias = idade_anos * 365  # Multiplica por 365 para converter em dias\n",
        "    return idade_dias\n",
        "\n",
        "\n",
        "try:\n",
        "    # Solicita o ano de nascimento ao usuário\n",
        "    ano = int(input(\"Digite seu ano de nascimento (ex: 1990): \"))\n",
        "\n",
        "    # Calcula a idade aproximada em dias\n",
        "    dias = calcular_idade_em_dias(ano)\n",
        "\n",
        "    # Exibe o resultado\n",
        "    print(f\"➡️  Sua idade aproximada em dias é: {dias} dias\")\n",
        "except ValueError:\n",
        "    print(\"❌ Entrada inválida. Por favor, digite um ano válido.\")\n"
      ],
      "metadata": {
        "colab": {
          "base_uri": "https://localhost:8080/"
        },
        "id": "h5s2pF2bXTO4",
        "outputId": "9a332129-6a76-4bec-9b46-8aed0a792bcf"
      },
      "execution_count": 9,
      "outputs": [
        {
          "output_type": "stream",
          "name": "stdout",
          "text": [
            "Digite seu ano de nascimento (ex: 1990): 1999\n",
            "➡️  Sua idade aproximada em dias é: 9490 dias\n"
          ]
        }
      ]
    }
  ]
}
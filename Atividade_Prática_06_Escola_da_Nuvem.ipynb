{
  "nbformat": 4,
  "nbformat_minor": 0,
  "metadata": {
    "colab": {
      "provenance": [],
      "authorship_tag": "ABX9TyPVs/csX9LtklHmjDZwHWfu",
      "include_colab_link": true
    },
    "kernelspec": {
      "name": "python3",
      "display_name": "Python 3"
    },
    "language_info": {
      "name": "python"
    }
  },
  "cells": [
    {
      "cell_type": "markdown",
      "metadata": {
        "id": "view-in-github",
        "colab_type": "text"
      },
      "source": [
        "<a href=\"https://colab.research.google.com/github/RenatinoCS/Atividades_Escola_da_Nuvem/blob/main/Atividade_Pr%C3%A1tica_06_Escola_da_Nuvem.ipynb\" target=\"_parent\"><img src=\"https://colab.research.google.com/assets/colab-badge.svg\" alt=\"Open In Colab\"/></a>"
      ]
    },
    {
      "cell_type": "markdown",
      "source": [
        "1- Crie um programa que gera uma senha aleatória com o módulo random, utilizando caracteres especiais, possibilitando o usuário a informar a quantidade de caracteres dessa senha aleatória."
      ],
      "metadata": {
        "id": "gWspXSSJaPax"
      }
    },
    {
      "cell_type": "code",
      "execution_count": 2,
      "metadata": {
        "colab": {
          "base_uri": "https://localhost:8080/"
        },
        "id": "pmmeGdROaB7k",
        "outputId": "35ba280d-30e1-45b3-99d7-c992caf3097e"
      },
      "outputs": [
        {
          "output_type": "stream",
          "name": "stdout",
          "text": [
            "Digite o tamanho da senha que deseja gerar. (ex: 8): 8\n",
            "Sua senha gerada é: Tg6aZcTw\n"
          ]
        }
      ],
      "source": [
        "\n",
        "import random\n",
        "import string\n",
        "\n",
        "# Exibe uma mensagem e solicita ao usuário que informe a quantidade de caracteres da senha\n",
        "tamanho = int(input(\"Digite o tamanho da senha que deseja gerar. (ex: 8): \"))\n",
        "\n",
        "# Define os caracteres que podem ser usados na senha (letras, números e símbolos especiais)\n",
        "caracteres = string.ascii_letters + string.digits + string.punctuation\n",
        "\n",
        "# Gera a senha aleatória com o tamanho informado, escolhendo aleatoriamente os caracteres\n",
        "senha = ''.join(random.choice(caracteres) for _ in range(tamanho))\n",
        "\n",
        "# Exibe a senha gerada\n",
        "print(\"Sua senha gerada é:\", senha)\n"
      ]
    },
    {
      "cell_type": "markdown",
      "source": [
        "2- Crie um programa que gera um perfil de usuário aleatório usando a API 'Random User Generator'. O programa deve exibir o nome, email e país do usuário gerado.\""
      ],
      "metadata": {
        "id": "h1vhiWWXazxL"
      }
    },
    {
      "cell_type": "code",
      "source": [
        "# Importa o módulo 'requests' para fazer a requisição à API\n",
        "import requests\n",
        "\n",
        "# Define a URL da API que gera usuários aleatórios\n",
        "url = \"https://randomuser.me/api/\"\n",
        "\n",
        "# Faz uma requisição GET para obter os dados\n",
        "resposta = requests.get(url)\n",
        "\n",
        "# Verifica se a requisição foi bem-sucedida (status code 200)\n",
        "if resposta.status_code == 200:\n",
        "    # Converte os dados da resposta para o formato JSON (dicionário Python)\n",
        "    dados = resposta.json()\n",
        "\n",
        "    # Extrai o primeiro usuário da lista de resultados\n",
        "    usuario = dados['results'][0]\n",
        "\n",
        "    # Captura o nome completo (primeiro nome + último nome)\n",
        "    nome = f\"{usuario['name']['first']} {usuario['name']['last']}\"\n",
        "\n",
        "    # Captura o e-mail do usuário\n",
        "    email = usuario['email']\n",
        "\n",
        "    # Captura o país do usuário\n",
        "    pais = usuario['location']['country']\n",
        "\n",
        "    # Exibe as informações extraídas\n",
        "    print(\"=== Perfil de Usuário Gerado ===\")\n",
        "    print(\"Nome:\", nome)\n",
        "    print(\"Email:\", email)\n",
        "    print(\"País:\", pais)\n",
        "else:\n",
        "    # Exibe uma mensagem de erro se não conseguir acessar a API\n",
        "    print(\"Erro ao acessar a API:\", resposta.status_code)\n"
      ],
      "metadata": {
        "colab": {
          "base_uri": "https://localhost:8080/"
        },
        "id": "_JuIPSzja4FS",
        "outputId": "e4593bea-d212-4b72-8491-83ea9f713413"
      },
      "execution_count": 4,
      "outputs": [
        {
          "output_type": "stream",
          "name": "stdout",
          "text": [
            "=== Perfil de Usuário Gerado ===\n",
            "Nome: Sudimir Veres\n",
            "Email: sudimir.veres@example.com\n",
            "País: Ukraine\n"
          ]
        }
      ]
    },
    {
      "cell_type": "markdown",
      "source": [
        "3- Desenvolva um programa que consulte informações de endereço a partir de um CEP fornecido pelo usuário,utilizando a API ViaCEP. O programa deve exibir o logradouro, bairro, cidade e estado correspondentes ao CEP\n",
        "consultado.\n"
      ],
      "metadata": {
        "id": "4WCJlGz4bIUe"
      }
    },
    {
      "cell_type": "code",
      "source": [
        "# Importa o módulo requests para fazer requisições HTTP\n",
        "import requests\n",
        "\n",
        "# Solicita que o usuário informe o CEP desejado\n",
        "cep = input(\"Digite o CEP (somente números): \")\n",
        "\n",
        "# Verifica se o CEP tem exatamente 8 dígitos\n",
        "if len(cep) != 8 or not cep.isdigit():\n",
        "    print(\"CEP inválido! Certifique-se de digitar exatamente 8 números.\")\n",
        "else:\n",
        "    # Monta a URL da API com o CEP informado\n",
        "    url = f\"https://viacep.com.br/ws/{cep}/json/\"\n",
        "\n",
        "    # Faz a requisição GET para obter os dados do CEP\n",
        "    resposta = requests.get(url)\n",
        "\n",
        "    # Verifica se a requisição foi bem-sucedida\n",
        "    if resposta.status_code == 200:\n",
        "        dados = resposta.json()\n",
        "\n",
        "        # Verifica se a API retornou um erro (ex: CEP inexistente)\n",
        "        if \"erro\" in dados:\n",
        "            print(\"CEP não encontrado.\")\n",
        "        else:\n",
        "            # Exibe as informações do endereço\n",
        "            print(\"=== Informações do Endereço ===\")\n",
        "            print(\"Logradouro:\", dados['logradouro'])\n",
        "            print(\"Bairro:\", dados['bairro'])\n",
        "            print(\"Cidade:\", dados['localidade'])\n",
        "            print(\"Estado (UF):\", dados['uf'])\n",
        "    else:\n",
        "        # Caso ocorra erro na requisição (ex: sem internet)\n",
        "        print(\"Erro ao consultar o CEP.\")\n"
      ],
      "metadata": {
        "colab": {
          "base_uri": "https://localhost:8080/"
        },
        "id": "MVHFljZ4bM42",
        "outputId": "51a234b0-61be-4bc1-f1c6-02a46912da93"
      },
      "execution_count": 6,
      "outputs": [
        {
          "output_type": "stream",
          "name": "stdout",
          "text": [
            "Digite o CEP (somente números): 57466034\n",
            "=== Informações do Endereço ===\n",
            "Logradouro: Avenida Sergipe\n",
            "Bairro: Cascavel\n",
            "Cidade: Piranhas\n",
            "Estado (UF): AL\n"
          ]
        }
      ]
    },
    {
      "cell_type": "markdown",
      "source": [
        "4-- Crie um programa que consulte a cotação atual de uma moeda estrangeira em relação ao Real Brasileiro (BRL). Ousuário deve informar o código da moeda desejada (ex: USD, EUR, GBP), e o programa deve exibir o valor atual, máximo e mínimo da cotação, além da data e hora da última atualização. Utilize a API da AwesomeAPI para obter os\n",
        "dados de cotação."
      ],
      "metadata": {
        "id": "oIA3lkjQbi-N"
      }
    },
    {
      "cell_type": "code",
      "source": [
        "# Importa o módulo requests para fazer a requisição à API\n",
        "import requests\n",
        "\n",
        "# Solicita ao usuário que digite o código da moeda desejada (ex: USD, EUR, GBP)\n",
        "moeda = input(\"Digite o código da moeda (ex: USD, EUR, GBP): \").upper()\n",
        "\n",
        "# Monta a URL da API, formatando como 'MOEDA-BRL'\n",
        "url = f\"https://economia.awesomeapi.com.br/json/last/{moeda}-BRL\"\n",
        "\n",
        "# Faz a requisição GET para buscar os dados da cotação\n",
        "resposta = requests.get(url)\n",
        "\n",
        "# Verifica se a requisição foi bem-sucedida\n",
        "if resposta.status_code == 200:\n",
        "    dados = resposta.json()\n",
        "\n",
        "    # A chave no dicionário vem como 'USD-BRL', 'EUR-BRL' etc.\n",
        "    chave = f\"{moeda}BRL\"  # A API retorna a chave sem o hífen\n",
        "\n",
        "    if chave in dados:\n",
        "        info = dados[chave]\n",
        "\n",
        "        # Exibe as informações desejadas\n",
        "        print(f\"\\n=== Cotação {moeda} para BRL ===\")\n",
        "        print(\"Valor atual: R$\", info['bid'])\n",
        "        print(\"Valor máximo do dia: R$\", info['high'])\n",
        "        print(\"Valor mínimo do dia: R$\", info['low'])\n",
        "        print(\"Data da última atualização:\", info['create_date'])\n",
        "    else:\n",
        "        print(\"Moeda não encontrada. Verifique se o código está correto.\")\n",
        "else:\n",
        "    print(\"Erro ao acessar a API.\")\n"
      ],
      "metadata": {
        "colab": {
          "base_uri": "https://localhost:8080/"
        },
        "id": "OO_YLO0Qbn0l",
        "outputId": "c6601ae7-53cb-4b98-9415-675461574cd8"
      },
      "execution_count": 7,
      "outputs": [
        {
          "output_type": "stream",
          "name": "stdout",
          "text": [
            "Digite o código da moeda (ex: USD, EUR, GBP): GBP\n",
            "\n",
            "=== Cotação GBP para BRL ===\n",
            "Valor atual: R$ 7.70646\n",
            "Valor máximo do dia: R$ 7.73623\n",
            "Valor mínimo do dia: R$ 7.6021\n",
            "Data da última atualização: 2025-05-30 18:29:25\n"
          ]
        }
      ]
    }
  ]
}
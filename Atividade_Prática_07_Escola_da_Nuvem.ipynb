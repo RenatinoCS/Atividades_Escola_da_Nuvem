{
  "nbformat": 4,
  "nbformat_minor": 0,
  "metadata": {
    "colab": {
      "provenance": [],
      "authorship_tag": "ABX9TyPD/nTnGC+Df9oBVZP9sWyy",
      "include_colab_link": true
    },
    "kernelspec": {
      "name": "python3",
      "display_name": "Python 3"
    },
    "language_info": {
      "name": "python"
    }
  },
  "cells": [
    {
      "cell_type": "markdown",
      "metadata": {
        "id": "view-in-github",
        "colab_type": "text"
      },
      "source": [
        "<a href=\"https://colab.research.google.com/github/RenatinoCS/Atividades_Escola_da_Nuvem/blob/main/Atividade_Pr%C3%A1tica_07_Escola_da_Nuvem.ipynb\" target=\"_parent\"><img src=\"https://colab.research.google.com/assets/colab-badge.svg\" alt=\"Open In Colab\"/></a>"
      ]
    },
    {
      "cell_type": "markdown",
      "source": [
        "1-  Leia um arquivo que contém dados de log de treinamento de modelos de Machine Learning. Calcule a média e o desvio padrão do tempo de execução constantes."
      ],
      "metadata": {
        "id": "dlyjWmm85r-B"
      }
    },
    {
      "cell_type": "code",
      "execution_count": 3,
      "metadata": {
        "colab": {
          "base_uri": "https://localhost:8080/"
        },
        "id": "jtualNEb5eda",
        "outputId": "328242b9-9f67-42c0-fa9b-b65fd23475a2"
      },
      "outputs": [
        {
          "output_type": "stream",
          "name": "stdout",
          "text": [
            "Média: 14.39 segundos\n",
            "Desvio padrão: 3.07 segundos\n"
          ]
        }
      ],
      "source": [
        "import re         # Importa o módulo para trabalhar com expressões regulares\n",
        "import statistics # Importa o módulo para calcular média e desvio padrão\n",
        "\n",
        "arquivo_log = \"1 log_modelos.txt\"  # Nome do arquivo de log\n",
        "tempos = []  # Lista para armazenar os tempos extraídos do log\n",
        "\n",
        "# Abre o arquivo em modo de leitura\n",
        "with open(arquivo_log, 'r') as file:\n",
        "    for linha in file:\n",
        "        # Procura o padrão \"Tempo de execução: valor\"\n",
        "        match = re.search(r\"Tempo de execução:\\s*([\\d.]+)\", linha)\n",
        "        if match:\n",
        "            # Converte o valor encontrado para float e adiciona à lista\n",
        "            tempo = float(match.group(1))\n",
        "            tempos.append(tempo)\n",
        "\n",
        "# Verifica se há tempos na lista\n",
        "if tempos:\n",
        "    # Calcula a média e o desvio padrão\n",
        "    media = statistics.mean(tempos)\n",
        "    desvio_padrao = statistics.stdev(tempos)\n",
        "    print(f\"Média: {media:.2f} segundos\")\n",
        "    print(f\"Desvio padrão: {desvio_padrao:.2f} segundos\")\n",
        "else:\n",
        "    print(\"Nenhum tempo encontrado no arquivo.\")\n",
        "\n"
      ]
    },
    {
      "cell_type": "markdown",
      "source": [
        "2- Crie um script em Python que escreva dados em um arquivo CSV. O arquivo CSV deve conter informações de pessoas, com colunas Nome, Idade e Cidade.​"
      ],
      "metadata": {
        "id": "LX-IB1XK7Wff"
      }
    },
    {
      "cell_type": "code",
      "source": [
        "import csv  # Módulo para trabalhar com arquivos CSV\n",
        "\n",
        "# Lista de dicionários contendo os dados das pessoas\n",
        "dados = [\n",
        "    {\"Nome\": \"Ana\", \"Idade\": 28, \"Cidade\": \"São Paulo\"},\n",
        "    {\"Nome\": \"Bruno\", \"Idade\": 34, \"Cidade\": \"Curitiba\"},\n",
        "    {\"Nome\": \"Carla\", \"Idade\": 22, \"Cidade\": \"Salvador\"}\n",
        "]\n",
        "\n",
        "# Abre (ou cria) o arquivo CSV em modo de escrita\n",
        "with open(\"2 3 pessoas.csv\", \"w\", newline='', encoding='utf-8') as file:\n",
        "    # Cria um escritor de dicionários com as colunas especificadas\n",
        "    writer = csv.DictWriter(file, fieldnames=[\"Nome\", \"Idade\", \"Cidade\"])\n",
        "    writer.writeheader()    # Escreve a primeira linha (cabeçalho)\n",
        "    writer.writerows(dados)  # Escreve todas as linhas de dados\n",
        "\n",
        "print(\"Arquivo CSV criado com sucesso.\")\n"
      ],
      "metadata": {
        "colab": {
          "base_uri": "https://localhost:8080/"
        },
        "id": "-G0QQm9J7b6F",
        "outputId": "8f1c5487-f5a5-4f5f-8b85-ae100bf8886c"
      },
      "execution_count": 5,
      "outputs": [
        {
          "output_type": "stream",
          "name": "stdout",
          "text": [
            "Arquivo CSV criado com sucesso.\n"
          ]
        }
      ]
    },
    {
      "cell_type": "markdown",
      "source": [
        "3- Crie um script em Python que leia um arquivo CSV e exiba os dados na tela. O arquivo CSV deve conter informações de pessoas, com colunas Nome, Idade e Cidade."
      ],
      "metadata": {
        "id": "qMRQvp7I7x7G"
      }
    },
    {
      "cell_type": "code",
      "source": [
        "import csv  # Módulo para ler arquivos CSV\n",
        "\n",
        "# Abre o arquivo CSV em modo de leitura\n",
        "with open(\"2 3 pessoas.csv\", \"r\", encoding='utf-8') as file:\n",
        "    reader = csv.DictReader(file)  # Lê o arquivo como dicionários\n",
        "    for linha in reader:\n",
        "        # Exibe os valores de cada linha\n",
        "        print(f\"Nome: {linha['Nome']}, Idade: {linha['Idade']}, Cidade: {linha['Cidade']}\")\n"
      ],
      "metadata": {
        "colab": {
          "base_uri": "https://localhost:8080/"
        },
        "id": "P9_6EGuD7zZO",
        "outputId": "fc0cf22c-a501-4279-9690-585d08f1b0e4"
      },
      "execution_count": 7,
      "outputs": [
        {
          "output_type": "stream",
          "name": "stdout",
          "text": [
            "Nome: Ana, Idade: 28, Cidade: São Paulo\n",
            "Nome: Bruno, Idade: 34, Cidade: Curitiba\n",
            "Nome: Carla, Idade: 22, Cidade: Salvador\n"
          ]
        }
      ]
    },
    {
      "cell_type": "markdown",
      "source": [
        "4- Crie um script em Python que leia e escreva dados em um arquivo JSON. O arquivo JSON deve conter informações de uma pessoa, com campos nome, idade e cidade.​"
      ],
      "metadata": {
        "id": "KMUNSiGi9LQv"
      }
    },
    {
      "cell_type": "code",
      "source": [
        "import json  # Módulo para trabalhar com JSON\n",
        "\n",
        "# Dicionário com os dados de uma pessoa\n",
        "pessoa = {\n",
        "    \"nome\": \"Renato\",\n",
        "    \"idade\": 35,\n",
        "    \"cidade\": \"Piranhas\"\n",
        "}\n",
        "\n",
        "# Escreve os dados no arquivo JSON\n",
        "with open(\"4 pessoa.json\", \"w\", encoding=\"utf-8\") as file:\n",
        "    json.dump(pessoa, file, ensure_ascii=False, indent=4)  # Salva com formatação\n",
        "\n",
        "# Lê os dados do arquivo JSON\n",
        "with open(\"4 pessoa.json\", \"r\", encoding=\"utf-8\") as file:\n",
        "    dados_lidos = json.load(file)  # Carrega os dados em um dicionário\n",
        "\n",
        "# Exibe os dados lidos\n",
        "print(f\"Nome: {dados_lidos['nome']}, Idade: {dados_lidos['idade']}, Cidade: {dados_lidos['cidade']}\")\n"
      ],
      "metadata": {
        "colab": {
          "base_uri": "https://localhost:8080/"
        },
        "id": "IxSOi6TZ9Pgf",
        "outputId": "14cfacab-beb1-4af5-e8f6-3a952012ab01"
      },
      "execution_count": 9,
      "outputs": [
        {
          "output_type": "stream",
          "name": "stdout",
          "text": [
            "Nome: Renato, Idade: 35, Cidade: Piranhas\n"
          ]
        }
      ]
    }
  ]
}
{
  "nbformat": 4,
  "nbformat_minor": 0,
  "metadata": {
    "colab": {
      "provenance": [],
      "authorship_tag": "ABX9TyOvqGvAdfsXGabqXSoYrhD6",
      "include_colab_link": true
    },
    "kernelspec": {
      "name": "python3",
      "display_name": "Python 3"
    },
    "language_info": {
      "name": "python"
    }
  },
  "cells": [
    {
      "cell_type": "markdown",
      "metadata": {
        "id": "view-in-github",
        "colab_type": "text"
      },
      "source": [
        "<a href=\"https://colab.research.google.com/github/RenatinoCS/Atividades_Escola_da_Nuvem/blob/main/Atividade_Pratica_02_Escola_da_nuvem.ipynb\" target=\"_parent\"><img src=\"https://colab.research.google.com/assets/colab-badge.svg\" alt=\"Open In Colab\"/></a>"
      ]
    },
    {
      "cell_type": "markdown",
      "source": [
        "1- Conversor de Moeda\n",
        "\n",
        "Crie um programa que converte um valor em reais para dólares e euros. Use os seguintes dados:\n",
        "\n",
        "* Valor em reais: R$ 100.00\n",
        "\n",
        "* Taxa do dólar: R$ 5.20\n",
        "\n",
        "* Taxa do euro: R$ 6.15\n",
        "\n",
        "O programa deve calcular e exibir os valores convertidos, arredondando para duas casas decimais."
      ],
      "metadata": {
        "id": "UIPf-jcAXdqT"
      }
    },
    {
      "cell_type": "code",
      "execution_count": 1,
      "metadata": {
        "id": "2nNWFKpF-Tu2",
        "colab": {
          "base_uri": "https://localhost:8080/"
        },
        "outputId": "5a8a4e96-84ac-4fd6-af71-dfea7175a331"
      },
      "outputs": [
        {
          "output_type": "stream",
          "name": "stdout",
          "text": [
            "Valor em Reais: R$ 100.00\n",
            "Convertido para Dólares: US$ 19.23\n",
            "Convertido para Euros: € 16.26\n"
          ]
        }
      ],
      "source": [
        "# Dados\n",
        "valor_reais = 100.00\n",
        "taxa_dolar = 5.20\n",
        "taxa_euro = 6.15\n",
        "\n",
        "# Conversão\n",
        "valor_em_dolar = valor_reais / taxa_dolar\n",
        "valor_em_euro = valor_reais / taxa_euro\n",
        "\n",
        "# Exibição\n",
        "print(f\"Valor em Reais: R$ {valor_reais:.2f}\")\n",
        "print(f\"Convertido para Dólares: US$ {valor_em_dolar:.2f}\")\n",
        "print(f\"Convertido para Euros: € {valor_em_euro:.2f}\")\n"
      ]
    },
    {
      "cell_type": "markdown",
      "source": [
        "2- Calculadora de Desconto\n",
        "\n",
        "Desenvolva um programa que calcula o desconto em uma loja. Use as seguintes informações:\n",
        "\n",
        "* Nome do produto: \"Camiseta\"\n",
        "* Preço original: R$ 50.00\n",
        "* Porcentagem de desconto: 20%\n",
        "O programa deve calcular o valor do desconto e o preço final, exibindo todos os detalhes.\n"
      ],
      "metadata": {
        "id": "-0RMjZmJX5KE"
      }
    },
    {
      "cell_type": "code",
      "source": [
        "# Dados\n",
        "produto = \"Camiseta\"\n",
        "preco_original = 50.00\n",
        "percentual_desconto = 20\n",
        "\n",
        "# Cálculo\n",
        "valor_desconto = preco_original * (percentual_desconto / 100)\n",
        "preco_final = preco_original - valor_desconto\n",
        "\n",
        "# Exibição\n",
        "print(f\"Produto: {produto}\")\n",
        "print(f\"Preço original: R$ {preco_original:.2f}\")\n",
        "print(f\"Desconto: {percentual_desconto}%\")\n",
        "print(f\"Valor do desconto: R$ {valor_desconto:.2f}\")\n",
        "print(f\"Preço com desconto: R$ {preco_final:.2f}\")\n"
      ],
      "metadata": {
        "colab": {
          "base_uri": "https://localhost:8080/"
        },
        "id": "-r92ndq1X9u7",
        "outputId": "a227f013-68a3-4913-8a44-226d7cb7fa09"
      },
      "execution_count": 2,
      "outputs": [
        {
          "output_type": "stream",
          "name": "stdout",
          "text": [
            "Produto: Camiseta\n",
            "Preço original: R$ 50.00\n",
            "Desconto: 20%\n",
            "Valor do desconto: R$ 10.00\n",
            "Preço com desconto: R$ 40.00\n"
          ]
        }
      ]
    },
    {
      "cell_type": "markdown",
      "source": [
        "3- Calculadora de Média Escolar\n",
        "\n",
        "Crie um programa que calcula a média escolar de um aluno. Use as seguintes notas:\n",
        "\n",
        "* Nota 1: 7.5\n",
        "* Nota 2: 8.0\n",
        "* Nota 3: 6.5\n",
        "O programa deve calcular a média e exibir todas as notas e o resultado final, arredondando para duas casas decimais."
      ],
      "metadata": {
        "id": "EwPSGWmWYtNS"
      }
    },
    {
      "cell_type": "code",
      "source": [
        "# Notas\n",
        "nota1 = 7.5\n",
        "nota2 = 8.0\n",
        "nota3 = 6.5\n",
        "\n",
        "# Cálculo da média\n",
        "media = (nota1 + nota2 + nota3) / 3\n",
        "\n",
        "# Exibição\n",
        "print(f\"Notas: {nota1}, {nota2}, {nota3}\")\n",
        "print(f\"Média final: {media:.2f}\")\n"
      ],
      "metadata": {
        "colab": {
          "base_uri": "https://localhost:8080/"
        },
        "id": "KIXh6yH-Ysge",
        "outputId": "2bb5a8e7-f813-4ca8-ec16-587006f0fa85"
      },
      "execution_count": 3,
      "outputs": [
        {
          "output_type": "stream",
          "name": "stdout",
          "text": [
            "Notas: 7.5, 8.0, 6.5\n",
            "Média final: 7.33\n"
          ]
        }
      ]
    },
    {
      "cell_type": "markdown",
      "source": [
        "4- Calculadora de Consumo de Combustível\n",
        "\n",
        "Desenvolva um programa que calcula o consumo médio de combustível de um veículo. Use os seguintes dados:\n",
        "\n",
        "* Distância percorrida: 300 km\n",
        "* Combustível gasto: 25 litros\n",
        "O programa deve calcular o consumo médio (km/l) e exibir todos os dados da viagem, incluindo o resultado final arredondado para duas casas decimais."
      ],
      "metadata": {
        "id": "GJ1RafL9ZEQ7"
      }
    },
    {
      "cell_type": "code",
      "source": [
        "# Dados\n",
        "distancia_km = 300\n",
        "combustivel_litros = 25\n",
        "\n",
        "# Cálculo\n",
        "consumo_medio = distancia_km / combustivel_litros\n",
        "\n",
        "# Exibição\n",
        "print(f\"Distância percorrida: {distancia_km} km\")\n",
        "print(f\"Combustível gasto: {combustivel_litros} litros\")\n",
        "print(f\"Consumo médio: {consumo_medio:.2f} km/l\")\n"
      ],
      "metadata": {
        "colab": {
          "base_uri": "https://localhost:8080/"
        },
        "id": "R_NDwzyHZAB7",
        "outputId": "d2e5b771-a1a1-4d89-c93d-83a565340991"
      },
      "execution_count": 4,
      "outputs": [
        {
          "output_type": "stream",
          "name": "stdout",
          "text": [
            "Distância percorrida: 300 km\n",
            "Combustível gasto: 25 litros\n",
            "Consumo médio: 12.00 km/l\n"
          ]
        }
      ]
    }
  ]
}